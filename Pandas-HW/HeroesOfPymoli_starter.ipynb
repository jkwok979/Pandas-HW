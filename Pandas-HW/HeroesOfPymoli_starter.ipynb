{
 "cells": [
  {
   "cell_type": "markdown",
   "metadata": {},
   "source": [
    "### Heroes Of Pymoli Data Analysis\n",
    "* Of the 1163 active players, the vast majority are male (84%). There also exists, a smaller, but notable proportion of female players (14%).\n",
    "\n",
    "* Our peak age demographic falls between 20-24 (44.8%) with secondary groups falling between 15-19 (18.60%) and 25-29 (13.4%).  \n",
    "-----"
   ]
  },
  {
   "cell_type": "markdown",
   "metadata": {},
   "source": [
    "### Note\n",
    "* Instructions have been included for each segment. You do not have to follow them exactly, but they are included to help you think through the steps."
   ]
  },
  {
   "cell_type": "code",
   "execution_count": 32,
   "metadata": {},
   "outputs": [
    {
     "data": {
      "text/html": [
       "<div>\n",
       "<style scoped>\n",
       "    .dataframe tbody tr th:only-of-type {\n",
       "        vertical-align: middle;\n",
       "    }\n",
       "\n",
       "    .dataframe tbody tr th {\n",
       "        vertical-align: top;\n",
       "    }\n",
       "\n",
       "    .dataframe thead th {\n",
       "        text-align: right;\n",
       "    }\n",
       "</style>\n",
       "<table border=\"1\" class=\"dataframe\">\n",
       "  <thead>\n",
       "    <tr style=\"text-align: right;\">\n",
       "      <th></th>\n",
       "      <th>Purchase ID</th>\n",
       "      <th>SN</th>\n",
       "      <th>Age</th>\n",
       "      <th>Gender</th>\n",
       "      <th>Item ID</th>\n",
       "      <th>Item Name</th>\n",
       "      <th>Price</th>\n",
       "    </tr>\n",
       "  </thead>\n",
       "  <tbody>\n",
       "    <tr>\n",
       "      <th>0</th>\n",
       "      <td>0</td>\n",
       "      <td>Lisim78</td>\n",
       "      <td>20</td>\n",
       "      <td>Male</td>\n",
       "      <td>108</td>\n",
       "      <td>Extraction, Quickblade Of Trembling Hands</td>\n",
       "      <td>3.53</td>\n",
       "    </tr>\n",
       "    <tr>\n",
       "      <th>1</th>\n",
       "      <td>1</td>\n",
       "      <td>Lisovynya38</td>\n",
       "      <td>40</td>\n",
       "      <td>Male</td>\n",
       "      <td>143</td>\n",
       "      <td>Frenzied Scimitar</td>\n",
       "      <td>1.56</td>\n",
       "    </tr>\n",
       "    <tr>\n",
       "      <th>2</th>\n",
       "      <td>2</td>\n",
       "      <td>Ithergue48</td>\n",
       "      <td>24</td>\n",
       "      <td>Male</td>\n",
       "      <td>92</td>\n",
       "      <td>Final Critic</td>\n",
       "      <td>4.88</td>\n",
       "    </tr>\n",
       "    <tr>\n",
       "      <th>3</th>\n",
       "      <td>3</td>\n",
       "      <td>Chamassasya86</td>\n",
       "      <td>24</td>\n",
       "      <td>Male</td>\n",
       "      <td>100</td>\n",
       "      <td>Blindscythe</td>\n",
       "      <td>3.27</td>\n",
       "    </tr>\n",
       "    <tr>\n",
       "      <th>4</th>\n",
       "      <td>4</td>\n",
       "      <td>Iskosia90</td>\n",
       "      <td>23</td>\n",
       "      <td>Male</td>\n",
       "      <td>131</td>\n",
       "      <td>Fury</td>\n",
       "      <td>1.44</td>\n",
       "    </tr>\n",
       "  </tbody>\n",
       "</table>\n",
       "</div>"
      ],
      "text/plain": [
       "   Purchase ID             SN  Age Gender  Item ID  \\\n",
       "0            0        Lisim78   20   Male      108   \n",
       "1            1    Lisovynya38   40   Male      143   \n",
       "2            2     Ithergue48   24   Male       92   \n",
       "3            3  Chamassasya86   24   Male      100   \n",
       "4            4      Iskosia90   23   Male      131   \n",
       "\n",
       "                                   Item Name  Price  \n",
       "0  Extraction, Quickblade Of Trembling Hands   3.53  \n",
       "1                          Frenzied Scimitar   1.56  \n",
       "2                               Final Critic   4.88  \n",
       "3                                Blindscythe   3.27  \n",
       "4                                       Fury   1.44  "
      ]
     },
     "execution_count": 32,
     "metadata": {},
     "output_type": "execute_result"
    }
   ],
   "source": [
    "# Dependencies and Setup\n",
    "import pandas as pd\n",
    "import numpy as np\n",
    "\n",
    "# Raw data file\n",
    "file_to_load = \"Resources/purchase_data.csv\"\n",
    "\n",
    "# Read purchasing file and store into pandas data frame\n",
    "purchase_data = pd.read_csv(file_to_load)\n",
    "purchase_data.head()"
   ]
  },
  {
   "cell_type": "markdown",
   "metadata": {},
   "source": [
    "## Player Count"
   ]
  },
  {
   "cell_type": "markdown",
   "metadata": {},
   "source": [
    "* Display the total number of players\n"
   ]
  },
  {
   "cell_type": "code",
   "execution_count": 33,
   "metadata": {},
   "outputs": [],
   "source": [
    "total_players=purchase_data[\"SN\"].nunique()"
   ]
  },
  {
   "cell_type": "code",
   "execution_count": 34,
   "metadata": {},
   "outputs": [
    {
     "data": {
      "text/plain": [
       "576"
      ]
     },
     "execution_count": 34,
     "metadata": {},
     "output_type": "execute_result"
    }
   ],
   "source": [
    "total_players"
   ]
  },
  {
   "cell_type": "markdown",
   "metadata": {},
   "source": [
    "## Purchasing Analysis (Total)"
   ]
  },
  {
   "cell_type": "markdown",
   "metadata": {},
   "source": [
    "* Run basic calculations to obtain number of unique items, average price, etc.\n",
    "\n",
    "\n",
    "* Create a summary data frame to hold the results\n",
    "\n",
    "\n",
    "* Optional: give the displayed data cleaner formatting\n",
    "\n",
    "\n",
    "* Display the summary data frame\n"
   ]
  },
  {
   "cell_type": "code",
   "execution_count": 35,
   "metadata": {},
   "outputs": [
    {
     "data": {
      "text/plain": [
       "2379.77"
      ]
     },
     "execution_count": 35,
     "metadata": {},
     "output_type": "execute_result"
    }
   ],
   "source": [
    "#still have to format rpice and total rev\n",
    "unique_items=purchase_data[\"Item ID\"].nunique()\n",
    "unique_items\n",
    "numeric_price = pd.to_numeric(purchase_data['Price']).mean()\n",
    "avg_price=numeric_price\n",
    "avg_price\n",
    "num_of_purchases=purchase_data[\"Purchase ID\"].nunique()\n",
    "num_of_purchases\n",
    "rev = purchase_data[\"Price\"].sum()\n",
    "rev\n"
   ]
  },
  {
   "cell_type": "code",
   "execution_count": 36,
   "metadata": {},
   "outputs": [
    {
     "data": {
      "text/html": [
       "<div>\n",
       "<style scoped>\n",
       "    .dataframe tbody tr th:only-of-type {\n",
       "        vertical-align: middle;\n",
       "    }\n",
       "\n",
       "    .dataframe tbody tr th {\n",
       "        vertical-align: top;\n",
       "    }\n",
       "\n",
       "    .dataframe thead th {\n",
       "        text-align: right;\n",
       "    }\n",
       "</style>\n",
       "<table border=\"1\" class=\"dataframe\">\n",
       "  <thead>\n",
       "    <tr style=\"text-align: right;\">\n",
       "      <th></th>\n",
       "      <th>Number of Unique Items</th>\n",
       "      <th>Average Price</th>\n",
       "      <th>Number of Purchases</th>\n",
       "      <th>Total Revenue</th>\n",
       "    </tr>\n",
       "  </thead>\n",
       "  <tbody>\n",
       "    <tr>\n",
       "      <th>0</th>\n",
       "      <td>183</td>\n",
       "      <td>3.050987</td>\n",
       "      <td>780</td>\n",
       "      <td>2379.77</td>\n",
       "    </tr>\n",
       "  </tbody>\n",
       "</table>\n",
       "</div>"
      ],
      "text/plain": [
       "   Number of Unique Items  Average Price  Number of Purchases  Total Revenue\n",
       "0                     183       3.050987                  780        2379.77"
      ]
     },
     "execution_count": 36,
     "metadata": {},
     "output_type": "execute_result"
    }
   ],
   "source": [
    "summary_table = pd.DataFrame({\"Number of Unique Items\": unique_items,\n",
    "                              \"Average Price\": [avg_price],\n",
    "                              \"Number of Purchases\": [num_of_purchases],\n",
    "                              \"Total Revenue\": [rev]})\n",
    "summary_table"
   ]
  },
  {
   "cell_type": "code",
   "execution_count": 37,
   "metadata": {
    "scrolled": true
   },
   "outputs": [],
   "source": [
    "#this is the right one"
   ]
  },
  {
   "cell_type": "markdown",
   "metadata": {},
   "source": [
    "## Gender Demographics"
   ]
  },
  {
   "cell_type": "markdown",
   "metadata": {},
   "source": [
    "* Percentage and Count of Male Players\n",
    "\n",
    "\n",
    "* Percentage and Count of Female Players\n",
    "\n",
    "\n",
    "* Percentage and Count of Other / Non-Disclosed\n",
    "\n",
    "\n"
   ]
  },
  {
   "cell_type": "code",
   "execution_count": 38,
   "metadata": {},
   "outputs": [
    {
     "data": {
      "text/html": [
       "<div>\n",
       "<style scoped>\n",
       "    .dataframe tbody tr th:only-of-type {\n",
       "        vertical-align: middle;\n",
       "    }\n",
       "\n",
       "    .dataframe tbody tr th {\n",
       "        vertical-align: top;\n",
       "    }\n",
       "\n",
       "    .dataframe thead th {\n",
       "        text-align: right;\n",
       "    }\n",
       "</style>\n",
       "<table border=\"1\" class=\"dataframe\">\n",
       "  <thead>\n",
       "    <tr style=\"text-align: right;\">\n",
       "      <th></th>\n",
       "      <th>Gender</th>\n",
       "    </tr>\n",
       "    <tr>\n",
       "      <th>Name</th>\n",
       "      <th></th>\n",
       "    </tr>\n",
       "  </thead>\n",
       "  <tbody>\n",
       "    <tr>\n",
       "      <th>Male</th>\n",
       "      <td>652</td>\n",
       "    </tr>\n",
       "    <tr>\n",
       "      <th>Female</th>\n",
       "      <td>113</td>\n",
       "    </tr>\n",
       "    <tr>\n",
       "      <th>Other / Non-Disclosed</th>\n",
       "      <td>15</td>\n",
       "    </tr>\n",
       "  </tbody>\n",
       "</table>\n",
       "</div>"
      ],
      "text/plain": [
       "                       Gender\n",
       "Name                         \n",
       "Male                      652\n",
       "Female                    113\n",
       "Other / Non-Disclosed      15"
      ]
     },
     "execution_count": 38,
     "metadata": {},
     "output_type": "execute_result"
    }
   ],
   "source": [
    "gender_count = purchase_data[\"Gender\"].value_counts()\n",
    "gender_count_df=pd.DataFrame(gender_count)\n",
    "gender_count_df.index.name = \"Name\"\n",
    "gender_count_df\n",
    "#missing percentages"
   ]
  },
  {
   "cell_type": "code",
   "execution_count": 39,
   "metadata": {},
   "outputs": [],
   "source": [
    "sum=purchase_data[\"Gender\"].value_counts().sum()\n",
    "percents=gender_count_df[\"Gender\"]/sum*100\n",
    "percents_df=pd.DataFrame(percents)\n",
    "percents_df=percents_df[\"Gender\"].map(\"{0:.2f}%\".format)"
   ]
  },
  {
   "cell_type": "code",
   "execution_count": 40,
   "metadata": {},
   "outputs": [],
   "source": [
    "percents_df=pd.DataFrame(percents_df)\n",
    "percents_df = percents_df.rename(columns={'Gender': 'Percentage of Players'})\n",
    "percents_df.index.name = \"Name\""
   ]
  },
  {
   "cell_type": "code",
   "execution_count": 41,
   "metadata": {},
   "outputs": [
    {
     "data": {
      "text/html": [
       "<div>\n",
       "<style scoped>\n",
       "    .dataframe tbody tr th:only-of-type {\n",
       "        vertical-align: middle;\n",
       "    }\n",
       "\n",
       "    .dataframe tbody tr th {\n",
       "        vertical-align: top;\n",
       "    }\n",
       "\n",
       "    .dataframe thead th {\n",
       "        text-align: right;\n",
       "    }\n",
       "</style>\n",
       "<table border=\"1\" class=\"dataframe\">\n",
       "  <thead>\n",
       "    <tr style=\"text-align: right;\">\n",
       "      <th></th>\n",
       "      <th>Percentage of Players</th>\n",
       "      <th>Total Count</th>\n",
       "    </tr>\n",
       "    <tr>\n",
       "      <th></th>\n",
       "      <th></th>\n",
       "      <th></th>\n",
       "    </tr>\n",
       "  </thead>\n",
       "  <tbody>\n",
       "    <tr>\n",
       "      <th>Male</th>\n",
       "      <td>83.59%</td>\n",
       "      <td>652</td>\n",
       "    </tr>\n",
       "    <tr>\n",
       "      <th>Female</th>\n",
       "      <td>14.49%</td>\n",
       "      <td>113</td>\n",
       "    </tr>\n",
       "    <tr>\n",
       "      <th>Other / Non-Disclosed</th>\n",
       "      <td>1.92%</td>\n",
       "      <td>15</td>\n",
       "    </tr>\n",
       "  </tbody>\n",
       "</table>\n",
       "</div>"
      ],
      "text/plain": [
       "                      Percentage of Players  Total Count\n",
       "                                                        \n",
       "Male                                 83.59%          652\n",
       "Female                               14.49%          113\n",
       "Other / Non-Disclosed                 1.92%           15"
      ]
     },
     "execution_count": 41,
     "metadata": {},
     "output_type": "execute_result"
    }
   ],
   "source": [
    "gender_percentage_df=pd.merge(percents_df, gender_count_df,on=\"Name\")\n",
    "gender_percentage_df.index.name = \"\"\n",
    "gender_percentage_df=gender_percentage_df.rename(columns={'Gender': 'Total Count'})\n",
    "gender_percentage_df"
   ]
  },
  {
   "cell_type": "markdown",
   "metadata": {},
   "source": [
    "\n",
    "## Purchasing Analysis (Gender)"
   ]
  },
  {
   "cell_type": "markdown",
   "metadata": {},
   "source": [
    "* Run basic calculations to obtain purchase count, avg. purchase price, avg. purchase total per person etc. by gender\n",
    "\n",
    "\n",
    "\n",
    "\n",
    "* Create a summary data frame to hold the results\n",
    "\n",
    "\n",
    "* Optional: give the displayed data cleaner formatting\n",
    "\n",
    "\n",
    "* Display the summary data frame"
   ]
  },
  {
   "cell_type": "code",
   "execution_count": 42,
   "metadata": {},
   "outputs": [
    {
     "data": {
      "text/html": [
       "<div>\n",
       "<style scoped>\n",
       "    .dataframe tbody tr th:only-of-type {\n",
       "        vertical-align: middle;\n",
       "    }\n",
       "\n",
       "    .dataframe tbody tr th {\n",
       "        vertical-align: top;\n",
       "    }\n",
       "\n",
       "    .dataframe thead th {\n",
       "        text-align: right;\n",
       "    }\n",
       "</style>\n",
       "<table border=\"1\" class=\"dataframe\">\n",
       "  <thead>\n",
       "    <tr style=\"text-align: right;\">\n",
       "      <th></th>\n",
       "      <th>Purchase Count</th>\n",
       "      <th>Avg Purchase Total per Person</th>\n",
       "      <th>Average Purchase Price</th>\n",
       "      <th>Total Purchase Value</th>\n",
       "    </tr>\n",
       "    <tr>\n",
       "      <th></th>\n",
       "      <th></th>\n",
       "      <th></th>\n",
       "      <th></th>\n",
       "      <th></th>\n",
       "    </tr>\n",
       "  </thead>\n",
       "  <tbody>\n",
       "    <tr>\n",
       "      <th>Male</th>\n",
       "      <td>652</td>\n",
       "      <td>$3.02</td>\n",
       "      <td>$3.02</td>\n",
       "      <td>$1967.64</td>\n",
       "    </tr>\n",
       "    <tr>\n",
       "      <th>Female</th>\n",
       "      <td>113</td>\n",
       "      <td>$3.20</td>\n",
       "      <td>$3.20</td>\n",
       "      <td>$361.94</td>\n",
       "    </tr>\n",
       "    <tr>\n",
       "      <th>Other / Non-Disclosed</th>\n",
       "      <td>15</td>\n",
       "      <td>$3.35</td>\n",
       "      <td>$3.35</td>\n",
       "      <td>$50.19</td>\n",
       "    </tr>\n",
       "  </tbody>\n",
       "</table>\n",
       "</div>"
      ],
      "text/plain": [
       "                       Purchase Count Avg Purchase Total per Person  \\\n",
       "                                                                      \n",
       "Male                              652                         $3.02   \n",
       "Female                            113                         $3.20   \n",
       "Other / Non-Disclosed              15                         $3.35   \n",
       "\n",
       "                      Average Purchase Price Total Purchase Value  \n",
       "                                                                   \n",
       "Male                                   $3.02             $1967.64  \n",
       "Female                                 $3.20              $361.94  \n",
       "Other / Non-Disclosed                  $3.35               $50.19  "
      ]
     },
     "execution_count": 42,
     "metadata": {},
     "output_type": "execute_result"
    }
   ],
   "source": [
    "#gender_purchase=purchase_data.sort_values([\"Gender\",\"Purchase ID\"]).mean()\n",
    "grouped_df=purchase_data.groupby([\"Gender\"])\n",
    "grouped_df.count().head(10)\n",
    "avg_purchase_price=grouped_df['Price'].mean()\n",
    "avg_purchase_price=pd.DataFrame(avg_purchase_price)\n",
    "#avg_purchase_price\n",
    "purchase_total_gender=grouped_df[\"Price\"].sum()\n",
    "purchase_total_gender=pd.DataFrame(purchase_total_gender)\n",
    "#purchase_total_gender\n",
    "analysis1=pd.merge(avg_purchase_price, purchase_total_gender,on=\"Gender\",how=\"outer\")\n",
    "analysis1 = analysis1.rename(columns={'Price_x': 'Average Purchase Price','Price_y': 'Total Purchase Value'})\n",
    "#analysis1\n",
    "analysis2=pd.merge(avg_purchase_price, analysis1,on=\"Gender\",how=\"outer\")\n",
    "analysis2 = analysis2.rename(columns={'Price': 'Avg Purchase Total per Person'})\n",
    "analysis2.index.name = \"Name\"\n",
    "analysis3=pd.merge(gender_count_df, analysis2,on=\"Name\",how=\"outer\")\n",
    "analysis3.index.name = \"\"\n",
    "analysis3 = analysis3.rename(columns={'Gender': 'Purchase Count'})\n",
    "analysis3_df=pd.DataFrame(analysis3)\n",
    "analysis3_df[\"Average Purchase Price\"] = analysis3_df[\"Average Purchase Price\"] .map(\"${:.2f}\".format)\n",
    "analysis3_df[\"Avg Purchase Total per Person\"] = analysis3_df[\"Avg Purchase Total per Person\"] .map(\"${:.2f}\".format)\n",
    "analysis3_df[\"Total Purchase Value\"] = analysis3_df[\"Total Purchase Value\"] .map(\"${:.2f}\".format)\n",
    "analysis3_df\n"
   ]
  },
  {
   "cell_type": "markdown",
   "metadata": {},
   "source": [
    "## Age Demographics"
   ]
  },
  {
   "cell_type": "markdown",
   "metadata": {},
   "source": [
    "* Establish bins for ages\n",
    "\n",
    "\n",
    "* Categorize the existing players using the age bins. Hint: use pd.cut()\n",
    "\n",
    "\n",
    "* Calculate the numbers and percentages by age group\n",
    "\n",
    "\n",
    "* Create a summary data frame to hold the results\n",
    "\n",
    "\n",
    "* Optional: round the percentage column to two decimal points\n",
    "\n",
    "\n",
    "* Display Age Demographics Table\n"
   ]
  },
  {
   "cell_type": "code",
   "execution_count": 43,
   "metadata": {},
   "outputs": [],
   "source": [
    "# Establish bins for ages\n",
    "age_bins = [0, 9.90, 14.90, 19.90, 24.90, 29.90, 34.90, 39.90, 99999]\n",
    "group_names = [\"<10\", \"10-14\", \"15-19\", \"20-24\", \"25-29\", \"30-34\", \"35-39\", \"40+\"]\n"
   ]
  },
  {
   "cell_type": "code",
   "execution_count": 44,
   "metadata": {},
   "outputs": [
    {
     "data": {
      "text/html": [
       "<div>\n",
       "<style scoped>\n",
       "    .dataframe tbody tr th:only-of-type {\n",
       "        vertical-align: middle;\n",
       "    }\n",
       "\n",
       "    .dataframe tbody tr th {\n",
       "        vertical-align: top;\n",
       "    }\n",
       "\n",
       "    .dataframe thead th {\n",
       "        text-align: right;\n",
       "    }\n",
       "</style>\n",
       "<table border=\"1\" class=\"dataframe\">\n",
       "  <thead>\n",
       "    <tr style=\"text-align: right;\">\n",
       "      <th></th>\n",
       "      <th>Percentage of Players</th>\n",
       "      <th>Total Count</th>\n",
       "    </tr>\n",
       "    <tr>\n",
       "      <th></th>\n",
       "      <th></th>\n",
       "      <th></th>\n",
       "    </tr>\n",
       "  </thead>\n",
       "  <tbody>\n",
       "    <tr>\n",
       "      <th>20-24</th>\n",
       "      <td>46.79</td>\n",
       "      <td>365</td>\n",
       "    </tr>\n",
       "    <tr>\n",
       "      <th>15-19</th>\n",
       "      <td>17.44</td>\n",
       "      <td>136</td>\n",
       "    </tr>\n",
       "    <tr>\n",
       "      <th>25-29</th>\n",
       "      <td>12.95</td>\n",
       "      <td>101</td>\n",
       "    </tr>\n",
       "    <tr>\n",
       "      <th>30-34</th>\n",
       "      <td>9.36</td>\n",
       "      <td>73</td>\n",
       "    </tr>\n",
       "    <tr>\n",
       "      <th>35-39</th>\n",
       "      <td>5.26</td>\n",
       "      <td>41</td>\n",
       "    </tr>\n",
       "    <tr>\n",
       "      <th>10-14</th>\n",
       "      <td>3.59</td>\n",
       "      <td>28</td>\n",
       "    </tr>\n",
       "    <tr>\n",
       "      <th>&lt;10</th>\n",
       "      <td>2.95</td>\n",
       "      <td>23</td>\n",
       "    </tr>\n",
       "    <tr>\n",
       "      <th>40+</th>\n",
       "      <td>1.67</td>\n",
       "      <td>13</td>\n",
       "    </tr>\n",
       "  </tbody>\n",
       "</table>\n",
       "</div>"
      ],
      "text/plain": [
       "      Percentage of Players  Total Count\n",
       "                                        \n",
       "20-24                 46.79          365\n",
       "15-19                 17.44          136\n",
       "25-29                 12.95          101\n",
       "30-34                  9.36           73\n",
       "35-39                  5.26           41\n",
       "10-14                  3.59           28\n",
       "<10                    2.95           23\n",
       "40+                    1.67           13"
      ]
     },
     "execution_count": 44,
     "metadata": {},
     "output_type": "execute_result"
    }
   ],
   "source": [
    "purchase_data[\"Total Count\"] = pd.cut(purchase_data[\"Age\"], age_bins, labels=group_names)\n",
    "age_counts = purchase_data[\"Total Count\"].value_counts()\n",
    "age_counts_df = pd.DataFrame(age_counts)\n",
    "age_counts_df.index.name = \"bin\"\n",
    "sum=age_counts_df[\"Total Count\"].sum()\n",
    "age_percents=age_counts_df[\"Total Count\"]/sum*100\n",
    "age_percents_df = pd.DataFrame(age_percents)\n",
    "age_percents_df\n",
    "age_percents_df.index.name = \"bin\"\n",
    "age_demographics=pd.merge(age_percents_df, age_counts_df,on=\"bin\",how=\"outer\")\n",
    "age_demographics = age_demographics.rename(columns={'Total Count_x': 'Percentage of Players', 'Total Count_y': \"Total Count\"})\n",
    "age_demographics.index.name = \"\"\n",
    "age_demographics[\"Percentage of Players\"] = age_demographics[\"Percentage of Players\"].map(\"{:.2f}\".format)\n",
    "age_demographics"
   ]
  },
  {
   "cell_type": "markdown",
   "metadata": {},
   "source": [
    "## Purchasing Analysis (Age)"
   ]
  },
  {
   "cell_type": "markdown",
   "metadata": {},
   "source": [
    "* Bin the purchase_data data frame by age\n",
    "\n",
    "\n",
    "* Run basic calculations to obtain purchase count, avg. purchase price, avg. purchase total per person etc. in the table below\n",
    "\n",
    "\n",
    "* Create a summary data frame to hold the results\n",
    "\n",
    "\n",
    "* Optional: give the displayed data cleaner formatting\n",
    "\n",
    "\n",
    "* Display the summary data frame"
   ]
  },
  {
   "cell_type": "code",
   "execution_count": 45,
   "metadata": {},
   "outputs": [],
   "source": [
    "purchase_data[\"bin\"] = pd.cut(purchase_data[\"Age\"], age_bins, labels=group_names)\n",
    "bins = purchase_data.groupby(\"bin\")\n",
    "bins3=bins.sum()\n",
    "bins3 = bins3.drop(['Purchase ID', 'Age', 'Item ID'], axis=1)\n",
    "bins3 = bins3.rename(columns={'Price': 'Total Purchase Value'})"
   ]
  },
  {
   "cell_type": "code",
   "execution_count": 46,
   "metadata": {},
   "outputs": [
    {
     "data": {
      "text/html": [
       "<div>\n",
       "<style scoped>\n",
       "    .dataframe tbody tr th:only-of-type {\n",
       "        vertical-align: middle;\n",
       "    }\n",
       "\n",
       "    .dataframe tbody tr th {\n",
       "        vertical-align: top;\n",
       "    }\n",
       "\n",
       "    .dataframe thead th {\n",
       "        text-align: right;\n",
       "    }\n",
       "</style>\n",
       "<table border=\"1\" class=\"dataframe\">\n",
       "  <thead>\n",
       "    <tr style=\"text-align: right;\">\n",
       "      <th></th>\n",
       "      <th>Total Purchase Value</th>\n",
       "      <th>Average Purchase Total per Person</th>\n",
       "      <th>Average Purchase Price</th>\n",
       "      <th>Purchase Count</th>\n",
       "    </tr>\n",
       "    <tr>\n",
       "      <th>bin</th>\n",
       "      <th></th>\n",
       "      <th></th>\n",
       "      <th></th>\n",
       "      <th></th>\n",
       "    </tr>\n",
       "  </thead>\n",
       "  <tbody>\n",
       "    <tr>\n",
       "      <th>&lt;10</th>\n",
       "      <td>$77.13</td>\n",
       "      <td>$3.35</td>\n",
       "      <td>$3.35</td>\n",
       "      <td>23</td>\n",
       "    </tr>\n",
       "    <tr>\n",
       "      <th>10-14</th>\n",
       "      <td>$82.78</td>\n",
       "      <td>$2.96</td>\n",
       "      <td>$2.96</td>\n",
       "      <td>28</td>\n",
       "    </tr>\n",
       "    <tr>\n",
       "      <th>15-19</th>\n",
       "      <td>$412.89</td>\n",
       "      <td>$3.04</td>\n",
       "      <td>$3.04</td>\n",
       "      <td>136</td>\n",
       "    </tr>\n",
       "    <tr>\n",
       "      <th>20-24</th>\n",
       "      <td>$1114.06</td>\n",
       "      <td>$3.05</td>\n",
       "      <td>$3.05</td>\n",
       "      <td>365</td>\n",
       "    </tr>\n",
       "    <tr>\n",
       "      <th>25-29</th>\n",
       "      <td>$293.00</td>\n",
       "      <td>$2.90</td>\n",
       "      <td>$2.90</td>\n",
       "      <td>101</td>\n",
       "    </tr>\n",
       "    <tr>\n",
       "      <th>30-34</th>\n",
       "      <td>$214.00</td>\n",
       "      <td>$2.93</td>\n",
       "      <td>$2.93</td>\n",
       "      <td>73</td>\n",
       "    </tr>\n",
       "    <tr>\n",
       "      <th>35-39</th>\n",
       "      <td>$147.67</td>\n",
       "      <td>$3.60</td>\n",
       "      <td>$3.60</td>\n",
       "      <td>41</td>\n",
       "    </tr>\n",
       "    <tr>\n",
       "      <th>40+</th>\n",
       "      <td>$38.24</td>\n",
       "      <td>$2.94</td>\n",
       "      <td>$2.94</td>\n",
       "      <td>13</td>\n",
       "    </tr>\n",
       "  </tbody>\n",
       "</table>\n",
       "</div>"
      ],
      "text/plain": [
       "      Total Purchase Value Average Purchase Total per Person  \\\n",
       "bin                                                            \n",
       "<10                 $77.13                             $3.35   \n",
       "10-14               $82.78                             $2.96   \n",
       "15-19              $412.89                             $3.04   \n",
       "20-24             $1114.06                             $3.05   \n",
       "25-29              $293.00                             $2.90   \n",
       "30-34              $214.00                             $2.93   \n",
       "35-39              $147.67                             $3.60   \n",
       "40+                 $38.24                             $2.94   \n",
       "\n",
       "      Average Purchase Price  Purchase Count  \n",
       "bin                                           \n",
       "<10                    $3.35              23  \n",
       "10-14                  $2.96              28  \n",
       "15-19                  $3.04             136  \n",
       "20-24                  $3.05             365  \n",
       "25-29                  $2.90             101  \n",
       "30-34                  $2.93              73  \n",
       "35-39                  $3.60              41  \n",
       "40+                    $2.94              13  "
      ]
     },
     "execution_count": 46,
     "metadata": {},
     "output_type": "execute_result"
    }
   ],
   "source": [
    "purchase_data[\"bin\"] = pd.cut(purchase_data[\"Age\"], age_bins, labels=group_names)\n",
    "bins = purchase_data.groupby(\"bin\")\n",
    "bins = bins.mean()\n",
    "bins=pd.DataFrame(bins)\n",
    "bins2= bins.drop(['Purchase ID', 'Age', 'Item ID'], axis=1)\n",
    "pur_analysis1=pd.merge(bins2, age_counts_df,on=\"bin\",how=\"outer\")\n",
    "pur_analysis1\n",
    "#pur_analysis2 = pur_analysis1.drop(['Average Purchase Price'], axis=1)\n",
    "pur_analysis2 = pur_analysis1.rename(columns={'Price': 'Average Purchase Price', 'Total Count': \"Purchase Count\"})\n",
    "pur_analysis3=pd.merge(bins, pur_analysis2,on=\"bin\",how=\"outer\")\n",
    "pur_analysis4= pur_analysis3.drop(['Purchase ID', 'Age', 'Item ID'], axis=1)\n",
    "pur_analysis5 = pur_analysis4.rename(columns={'Price': 'Average Purchase Total per Person'})\n",
    "pur_analysis6=pd.merge(bins3, pur_analysis5,on=\"bin\",how=\"outer\")\n",
    "pur_analysis6[\"Total Purchase Value\"] = pur_analysis6[\"Total Purchase Value\"] .map(\"${:.2f}\".format)\n",
    "pur_analysis6[\"Average Purchase Total per Person\"] = pur_analysis6[\"Average Purchase Total per Person\"] .map(\"${:.2f}\".format)\n",
    "pur_analysis6[\"Average Purchase Price\"] = pur_analysis6[\"Average Purchase Price\"] .map(\"${:.2f}\".format)\n",
    "pur_analysis6\n",
    "\n",
    "#format\n"
   ]
  },
  {
   "cell_type": "markdown",
   "metadata": {},
   "source": [
    "## Top Spenders"
   ]
  },
  {
   "cell_type": "markdown",
   "metadata": {},
   "source": [
    "* Run basic calculations to obtain the results in the table below\n",
    "\n",
    "\n",
    "* Create a summary data frame to hold the results\n",
    "\n",
    "\n",
    "* Sort the total purchase value column in descending order\n",
    "\n",
    "\n",
    "* Optional: give the displayed data cleaner formatting\n",
    "\n",
    "\n",
    "* Display a preview of the summary data frame\n",
    "\n"
   ]
  },
  {
   "cell_type": "code",
   "execution_count": 47,
   "metadata": {},
   "outputs": [
    {
     "data": {
      "text/html": [
       "<div>\n",
       "<style scoped>\n",
       "    .dataframe tbody tr th:only-of-type {\n",
       "        vertical-align: middle;\n",
       "    }\n",
       "\n",
       "    .dataframe tbody tr th {\n",
       "        vertical-align: top;\n",
       "    }\n",
       "\n",
       "    .dataframe thead th {\n",
       "        text-align: right;\n",
       "    }\n",
       "</style>\n",
       "<table border=\"1\" class=\"dataframe\">\n",
       "  <thead>\n",
       "    <tr style=\"text-align: right;\">\n",
       "      <th></th>\n",
       "      <th>Total Purchase Value</th>\n",
       "      <th>Average Purchase Price</th>\n",
       "      <th>Purchase Count</th>\n",
       "    </tr>\n",
       "    <tr>\n",
       "      <th>SN</th>\n",
       "      <th></th>\n",
       "      <th></th>\n",
       "      <th></th>\n",
       "    </tr>\n",
       "  </thead>\n",
       "  <tbody>\n",
       "    <tr>\n",
       "      <th>Chamjask73</th>\n",
       "      <td>$13.83</td>\n",
       "      <td>$4.61</td>\n",
       "      <td>3</td>\n",
       "    </tr>\n",
       "    <tr>\n",
       "      <th>Idastidru52</th>\n",
       "      <td>$15.45</td>\n",
       "      <td>$3.86</td>\n",
       "      <td>4</td>\n",
       "    </tr>\n",
       "    <tr>\n",
       "      <th>Iral74</th>\n",
       "      <td>$13.62</td>\n",
       "      <td>$3.40</td>\n",
       "      <td>4</td>\n",
       "    </tr>\n",
       "    <tr>\n",
       "      <th>Iskadarya95</th>\n",
       "      <td>$13.10</td>\n",
       "      <td>$4.37</td>\n",
       "      <td>3</td>\n",
       "    </tr>\n",
       "    <tr>\n",
       "      <th>Lisosia93</th>\n",
       "      <td>$18.96</td>\n",
       "      <td>$3.79</td>\n",
       "      <td>5</td>\n",
       "    </tr>\n",
       "  </tbody>\n",
       "</table>\n",
       "</div>"
      ],
      "text/plain": [
       "            Total Purchase Value Average Purchase Price  Purchase Count\n",
       "SN                                                                     \n",
       "Chamjask73                $13.83                  $4.61               3\n",
       "Idastidru52               $15.45                  $3.86               4\n",
       "Iral74                    $13.62                  $3.40               4\n",
       "Iskadarya95               $13.10                  $4.37               3\n",
       "Lisosia93                 $18.96                  $3.79               5"
      ]
     },
     "execution_count": 47,
     "metadata": {},
     "output_type": "execute_result"
    }
   ],
   "source": [
    "tp_index = purchase_data.set_index(\"SN\")\n",
    "top_spenders = tp_index.loc[[\"Lisosia93\", \"Idastidru52\", \"Chamjask73\",\n",
    "                                \"Iral74\", \"Iskadarya95\"], [\"Price\"]]\n",
    "top_spenders_val_count = top_spenders.index.value_counts()\n",
    "top_spenders_val_count_df=pd.DataFrame(top_spenders_val_count)\n",
    "top_spenders_val_count_df = top_spenders_val_count_df.rename(columns={'SN': 'Rename'})\n",
    "top_spenders_val_count_df.index.name = \"SN\"\n",
    "#top_spenders_val_count_df\n",
    "price_average = top_spenders.groupby(\"SN\")\n",
    "mean = price_average.mean()\n",
    "#mean\n",
    "price_sum = top_spenders.groupby(\"SN\")\n",
    "sum_top_spenders = price_sum.sum()\n",
    "#sum_top_spenders\n",
    "ts_analysis1=pd.merge(sum_top_spenders, mean,on=\"SN\",how=\"outer\")\n",
    "ts_analysis2=pd.merge(ts_analysis1, top_spenders_val_count_df,on=\"SN\",how=\"outer\")\n",
    "ts_analysis3=ts_analysis2.rename(columns={'Price_x': 'Total Purchase Value', 'Price_y':'Average Purchase Price', 'Rename':'Purchase Count'})\n",
    "ts_analysis3[\"Average Purchase Price\"] = ts_analysis3[\"Average Purchase Price\"] .map(\"${:.2f}\".format)\n",
    "ts_analysis3[\"Total Purchase Value\"] = ts_analysis3[\"Total Purchase Value\"] .map(\"${:.2f}\".format)\n",
    "ts_analysis3\n",
    "#put in descending order"
   ]
  },
  {
   "cell_type": "code",
   "execution_count": 48,
   "metadata": {},
   "outputs": [],
   "source": [
    "#example "
   ]
  },
  {
   "cell_type": "markdown",
   "metadata": {},
   "source": [
    "## Most Popular Items"
   ]
  },
  {
   "cell_type": "markdown",
   "metadata": {},
   "source": [
    "* Retrieve the Item ID, Item Name, and Item Price columns\n",
    "\n",
    "\n",
    "* Group by Item ID and Item Name. Perform calculations to obtain purchase count, item price, and total purchase value\n",
    "\n",
    "\n",
    "* Create a summary data frame to hold the results\n",
    "\n",
    "\n",
    "* Sort the purchase count column in descending order\n",
    "\n",
    "\n",
    "* Optional: give the displayed data cleaner formatting\n",
    "\n",
    "\n",
    "* Display a preview of the summary data frame\n",
    "\n"
   ]
  },
  {
   "cell_type": "code",
   "execution_count": 88,
   "metadata": {},
   "outputs": [],
   "source": [
    "item_index = purchase_data.set_index(\"Item Name\")\n",
    "top_index2 = item_index.loc[[\"Oathbreaker, Last Hope of the Breaking Storm\", \"Fiery Glass Crusader\", \"Extraction, Quickblade Of Trembling Hands\", \"Nirvana\", \"Pursuit, Cudgel of Necromancy\"], [\"Item ID\",\"Purchase ID\",\"Price\"]]\n",
    "top_index2_df=pd.DataFrame(top_index2)\n",
    "top_index2_count = top_index2_df[\"Item ID\"].value_counts()\n",
    "top_grouped = top_index2_df.groupby(['Item Name'])\n",
    "popular1 = pd.DataFrame(top_index2_count)\n",
    "popular1_df=popular1.rename(columns={'Item ID': 'Purchase Count'})\n",
    "popular1_df.index.name = \"Item ID\"\n",
    "#popular1_df\n",
    "top_index2_count_df=pd.DataFrame(top_index2_count)\n",
    "top_index2_count_df=top_index2_count_df.rename(columns={'Item ID': 'Rename'})\n",
    "top_index2_count_df\n",
    "top_index2_count_df.index.name = \"Item ID\"\n",
    "#top_index2_count_df\n",
    "pop_analysis1=pd.merge(top_index2_count_df, popular1_df,on=\"Item ID\",how=\"outer\")\n",
    "pop_analysis2=top_grouped.mean()\n",
    "pop_analysis2=pop_analysis2.rename(columns={'Price': 'Item Price'})\n",
    "pop_analysis3=top_grouped.sum()\n",
    "pop_analysis3=pop_analysis3.rename(columns={'Price': 'Total Purchase Value'})\n",
    "pop_analysis4=pd.merge(pop_analysis2, pop_analysis3,on=\"Item Name\",how=\"outer\")\n",
    "pop_analysis5= pop_analysis4.drop(['Purchase ID_x', 'Item ID_y', 'Purchase ID_y'], axis=1)\n",
    "pop_analysis5_df=pop_analysis5[\"Item ID_x\"].map(\"{:.0f}\".format)\n",
    "pop_analysis6_df=pd.DataFrame(pop_analysis6_df)\n",
    "pop_analysis7_df=pd.merge(pop_analysis6_df, pop_analysis5,on=\"Item Name\",how=\"outer\")\n",
    "pop_analysis7_df=pop_analysis7_df.drop(['Item ID_x_y'], axis=1)\n",
    "pop_analysis7_df=pop_analysis7_df.rename(columns={'Item ID_x_x': 'Item ID'})\n",
    "#pop_analysis8_df=pd.merge(pop_analysis7_df, top_index2_count_df,on=\"Item ID\",how=\"outer\")\n",
    "\n"
   ]
  },
  {
   "cell_type": "code",
   "execution_count": 89,
   "metadata": {},
   "outputs": [
    {
     "data": {
      "text/html": [
       "<div>\n",
       "<style scoped>\n",
       "    .dataframe tbody tr th:only-of-type {\n",
       "        vertical-align: middle;\n",
       "    }\n",
       "\n",
       "    .dataframe tbody tr th {\n",
       "        vertical-align: top;\n",
       "    }\n",
       "\n",
       "    .dataframe thead th {\n",
       "        text-align: right;\n",
       "    }\n",
       "</style>\n",
       "<table border=\"1\" class=\"dataframe\">\n",
       "  <thead>\n",
       "    <tr style=\"text-align: right;\">\n",
       "      <th></th>\n",
       "      <th></th>\n",
       "      <th>Price</th>\n",
       "    </tr>\n",
       "    <tr>\n",
       "      <th>Item Name</th>\n",
       "      <th>Price</th>\n",
       "      <th></th>\n",
       "    </tr>\n",
       "  </thead>\n",
       "  <tbody>\n",
       "    <tr>\n",
       "      <th>Extraction, Quickblade Of Trembling Hands</th>\n",
       "      <th>3.53</th>\n",
       "      <td>9</td>\n",
       "    </tr>\n",
       "    <tr>\n",
       "      <th>Fiery Glass Crusader</th>\n",
       "      <th>4.58</th>\n",
       "      <td>9</td>\n",
       "    </tr>\n",
       "    <tr>\n",
       "      <th>Nirvana</th>\n",
       "      <th>4.90</th>\n",
       "      <td>9</td>\n",
       "    </tr>\n",
       "    <tr>\n",
       "      <th>Oathbreaker, Last Hope of the Breaking Storm</th>\n",
       "      <th>4.23</th>\n",
       "      <td>12</td>\n",
       "    </tr>\n",
       "    <tr>\n",
       "      <th>Pursuit, Cudgel of Necromancy</th>\n",
       "      <th>1.02</th>\n",
       "      <td>8</td>\n",
       "    </tr>\n",
       "  </tbody>\n",
       "</table>\n",
       "</div>"
      ],
      "text/plain": [
       "                                                    Price\n",
       "Item Name                                    Price       \n",
       "Extraction, Quickblade Of Trembling Hands    3.53       9\n",
       "Fiery Glass Crusader                         4.58       9\n",
       "Nirvana                                      4.90       9\n",
       "Oathbreaker, Last Hope of the Breaking Storm 4.23      12\n",
       "Pursuit, Cudgel of Necromancy                1.02       8"
      ]
     },
     "execution_count": 89,
     "metadata": {},
     "output_type": "execute_result"
    }
   ],
   "source": [
    "test= top_grouped['Price'].value_counts()\n",
    "test_df = pd.DataFrame(test)\n",
    "test_df"
   ]
  },
  {
   "cell_type": "code",
   "execution_count": 90,
   "metadata": {},
   "outputs": [],
   "source": [
    "top_index2_df_name = top_index2_df.index.value_counts()\n",
    "top_index2_df_name_df=pd.DataFrame(top_index2_df_name)\n",
    "top_index2_df_name_df=top_index2_df_name_df.rename(columns={'Item Name': 'Purchase Count'})\n",
    "top_index2_df_name_df.index.name = \"Item Name\"\n"
   ]
  },
  {
   "cell_type": "code",
   "execution_count": 91,
   "metadata": {},
   "outputs": [
    {
     "data": {
      "text/html": [
       "<div>\n",
       "<style scoped>\n",
       "    .dataframe tbody tr th:only-of-type {\n",
       "        vertical-align: middle;\n",
       "    }\n",
       "\n",
       "    .dataframe tbody tr th {\n",
       "        vertical-align: top;\n",
       "    }\n",
       "\n",
       "    .dataframe thead th {\n",
       "        text-align: right;\n",
       "    }\n",
       "</style>\n",
       "<table border=\"1\" class=\"dataframe\">\n",
       "  <thead>\n",
       "    <tr style=\"text-align: right;\">\n",
       "      <th></th>\n",
       "      <th>Purchase Count</th>\n",
       "      <th>Item ID</th>\n",
       "      <th>Item Price</th>\n",
       "      <th>Total Purchase Value</th>\n",
       "    </tr>\n",
       "    <tr>\n",
       "      <th>Item Name</th>\n",
       "      <th></th>\n",
       "      <th></th>\n",
       "      <th></th>\n",
       "      <th></th>\n",
       "    </tr>\n",
       "  </thead>\n",
       "  <tbody>\n",
       "    <tr>\n",
       "      <th>Oathbreaker, Last Hope of the Breaking Storm</th>\n",
       "      <td>12</td>\n",
       "      <td>178</td>\n",
       "      <td>$4.23</td>\n",
       "      <td>$50.76</td>\n",
       "    </tr>\n",
       "    <tr>\n",
       "      <th>Nirvana</th>\n",
       "      <td>9</td>\n",
       "      <td>82</td>\n",
       "      <td>$4.90</td>\n",
       "      <td>$44.10</td>\n",
       "    </tr>\n",
       "    <tr>\n",
       "      <th>Extraction, Quickblade Of Trembling Hands</th>\n",
       "      <td>9</td>\n",
       "      <td>108</td>\n",
       "      <td>$3.53</td>\n",
       "      <td>$31.77</td>\n",
       "    </tr>\n",
       "    <tr>\n",
       "      <th>Fiery Glass Crusader</th>\n",
       "      <td>9</td>\n",
       "      <td>145</td>\n",
       "      <td>$4.58</td>\n",
       "      <td>$41.22</td>\n",
       "    </tr>\n",
       "    <tr>\n",
       "      <th>Pursuit, Cudgel of Necromancy</th>\n",
       "      <td>8</td>\n",
       "      <td>19</td>\n",
       "      <td>$1.02</td>\n",
       "      <td>$8.16</td>\n",
       "    </tr>\n",
       "  </tbody>\n",
       "</table>\n",
       "</div>"
      ],
      "text/plain": [
       "                                              Purchase Count Item ID  \\\n",
       "Item Name                                                              \n",
       "Oathbreaker, Last Hope of the Breaking Storm              12     178   \n",
       "Nirvana                                                    9      82   \n",
       "Extraction, Quickblade Of Trembling Hands                  9     108   \n",
       "Fiery Glass Crusader                                       9     145   \n",
       "Pursuit, Cudgel of Necromancy                              8      19   \n",
       "\n",
       "                                             Item Price Total Purchase Value  \n",
       "Item Name                                                                     \n",
       "Oathbreaker, Last Hope of the Breaking Storm      $4.23               $50.76  \n",
       "Nirvana                                           $4.90               $44.10  \n",
       "Extraction, Quickblade Of Trembling Hands         $3.53               $31.77  \n",
       "Fiery Glass Crusader                              $4.58               $41.22  \n",
       "Pursuit, Cudgel of Necromancy                     $1.02                $8.16  "
      ]
     },
     "execution_count": 91,
     "metadata": {},
     "output_type": "execute_result"
    }
   ],
   "source": [
    "final_df=pd.merge(top_index2_df_name_df, pop_analysis7_df,on=\"Item Name\",how=\"outer\")\n",
    "final_df[\"Total Purchase Value\"] = final_df[\"Total Purchase Value\"].map(\"${:.2f}\".format)\n",
    "final_df[\"Item Price\"] = final_df[\"Item Price\"].map(\"${:.2f}\".format)\n",
    "final_df"
   ]
  },
  {
   "cell_type": "markdown",
   "metadata": {},
   "source": [
    "## Most Profitable Items"
   ]
  },
  {
   "cell_type": "markdown",
   "metadata": {},
   "source": [
    "* Sort the above table by total purchase value in descending order\n",
    "\n",
    "\n",
    "* Optional: give the displayed data cleaner formatting\n",
    "\n",
    "\n",
    "* Display a preview of the data frame\n",
    "\n"
   ]
  },
  {
   "cell_type": "code",
   "execution_count": 92,
   "metadata": {},
   "outputs": [
    {
     "data": {
      "text/html": [
       "<div>\n",
       "<style scoped>\n",
       "    .dataframe tbody tr th:only-of-type {\n",
       "        vertical-align: middle;\n",
       "    }\n",
       "\n",
       "    .dataframe tbody tr th {\n",
       "        vertical-align: top;\n",
       "    }\n",
       "\n",
       "    .dataframe thead th {\n",
       "        text-align: right;\n",
       "    }\n",
       "</style>\n",
       "<table border=\"1\" class=\"dataframe\">\n",
       "  <thead>\n",
       "    <tr style=\"text-align: right;\">\n",
       "      <th></th>\n",
       "      <th>Purchase Count</th>\n",
       "      <th>Item ID</th>\n",
       "      <th>Item Price</th>\n",
       "      <th>Total Purchase Value</th>\n",
       "    </tr>\n",
       "    <tr>\n",
       "      <th>Item Name</th>\n",
       "      <th></th>\n",
       "      <th></th>\n",
       "      <th></th>\n",
       "      <th></th>\n",
       "    </tr>\n",
       "  </thead>\n",
       "  <tbody>\n",
       "    <tr>\n",
       "      <th>Oathbreaker, Last Hope of the Breaking Storm</th>\n",
       "      <td>12</td>\n",
       "      <td>178</td>\n",
       "      <td>$4.23</td>\n",
       "      <td>$50.76</td>\n",
       "    </tr>\n",
       "    <tr>\n",
       "      <th>Nirvana</th>\n",
       "      <td>9</td>\n",
       "      <td>82</td>\n",
       "      <td>$4.90</td>\n",
       "      <td>$44.10</td>\n",
       "    </tr>\n",
       "    <tr>\n",
       "      <th>Extraction, Quickblade Of Trembling Hands</th>\n",
       "      <td>9</td>\n",
       "      <td>108</td>\n",
       "      <td>$3.53</td>\n",
       "      <td>$31.77</td>\n",
       "    </tr>\n",
       "    <tr>\n",
       "      <th>Fiery Glass Crusader</th>\n",
       "      <td>9</td>\n",
       "      <td>145</td>\n",
       "      <td>$4.58</td>\n",
       "      <td>$41.22</td>\n",
       "    </tr>\n",
       "    <tr>\n",
       "      <th>Pursuit, Cudgel of Necromancy</th>\n",
       "      <td>8</td>\n",
       "      <td>19</td>\n",
       "      <td>$1.02</td>\n",
       "      <td>$8.16</td>\n",
       "    </tr>\n",
       "  </tbody>\n",
       "</table>\n",
       "</div>"
      ],
      "text/plain": [
       "                                              Purchase Count Item ID  \\\n",
       "Item Name                                                              \n",
       "Oathbreaker, Last Hope of the Breaking Storm              12     178   \n",
       "Nirvana                                                    9      82   \n",
       "Extraction, Quickblade Of Trembling Hands                  9     108   \n",
       "Fiery Glass Crusader                                       9     145   \n",
       "Pursuit, Cudgel of Necromancy                              8      19   \n",
       "\n",
       "                                             Item Price Total Purchase Value  \n",
       "Item Name                                                                     \n",
       "Oathbreaker, Last Hope of the Breaking Storm      $4.23               $50.76  \n",
       "Nirvana                                           $4.90               $44.10  \n",
       "Extraction, Quickblade Of Trembling Hands         $3.53               $31.77  \n",
       "Fiery Glass Crusader                              $4.58               $41.22  \n",
       "Pursuit, Cudgel of Necromancy                     $1.02                $8.16  "
      ]
     },
     "execution_count": 92,
     "metadata": {},
     "output_type": "execute_result"
    }
   ],
   "source": [
    "final_df"
   ]
  }
 ],
 "metadata": {
  "anaconda-cloud": {},
  "kernel_info": {
   "name": "python3"
  },
  "kernelspec": {
   "display_name": "Python 3",
   "language": "python",
   "name": "python3"
  },
  "language_info": {
   "codemirror_mode": {
    "name": "ipython",
    "version": 3
   },
   "file_extension": ".py",
   "mimetype": "text/x-python",
   "name": "python",
   "nbconvert_exporter": "python",
   "pygments_lexer": "ipython3",
   "version": "3.6.5"
  },
  "nteract": {
   "version": "0.8.4"
  }
 },
 "nbformat": 4,
 "nbformat_minor": 1
}
